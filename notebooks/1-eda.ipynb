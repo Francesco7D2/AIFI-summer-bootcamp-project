{
 "cells": [
  {
   "cell_type": "markdown",
   "id": "380abb06-a41d-4828-a160-fc20eb0c5f06",
   "metadata": {},
   "source": [
    "# Exploratory Data Analysis"
   ]
  },
  {
   "cell_type": "code",
   "execution_count": 1,
   "id": "be7ebf85-4bde-4e9c-8325-e672be44a9a7",
   "metadata": {},
   "outputs": [],
   "source": [
    "from pathlib import Path\n",
    "import os\n",
    "\n",
    "os.chdir(str(Path.cwd().parent))\n",
    "\n",
    "%load_ext autoreload\n",
    "%autoreload 1\n",
    "\n",
    "%aimport src.data_preprocessing.data_loader\n",
    "%aimport src.utils.setup_utilities\n",
    "\n",
    "# Own modules\n",
    "from src.data_preprocessing.data_loader import DataLoader\n",
    "from src.utils.setup_utilities import load_config, setup_logging\n",
    "\n",
    "\n",
    "\n",
    "\n"
   ]
  },
  {
   "cell_type": "code",
   "execution_count": 3,
   "id": "a95a4378-6d47-4456-a8f7-3b44782560a9",
   "metadata": {},
   "outputs": [
    {
     "name": "stderr",
     "output_type": "stream",
     "text": [
      "[*********************100%%**********************]  1 of 1 completed\n",
      "[*********************100%%**********************]  1 of 1 completed\n",
      "[*********************100%%**********************]  1 of 1 completed\n",
      "[*********************100%%**********************]  1 of 1 completed\n",
      "[*********************100%%**********************]  1 of 1 completed"
     ]
    },
    {
     "name": "stdout",
     "output_type": "stream",
     "text": [
      "<class 'pandas.core.series.Series'>\n",
      "MultiIndex: 12084 entries, ('MSFT', Timestamp('2013-01-02 00:00:00')) to ('GOOGL', Timestamp('2023-12-29 00:00:00'))\n",
      "Series name: Adj Close\n",
      "Non-Null Count  Dtype  \n",
      "--------------  -----  \n",
      "12084 non-null  float64\n",
      "dtypes: float64(1)\n",
      "memory usage: 218.1+ KB\n"
     ]
    },
    {
     "name": "stderr",
     "output_type": "stream",
     "text": [
      "\n"
     ]
    }
   ],
   "source": [
    "config = load_config()\n",
    "data_loader = DataLoader(tickers=config['data']['tickers'],\n",
    "                                          start_date=config['data']['start_date'],\n",
    "                                          end_date=config['data']['end_date'],\n",
    "                                          raw_data_path=config['data']['raw_data_path'])\n",
    "        \n",
    "stock_data = data_loader.load_data(interval = config['data']['interval'], \n",
    "                                   feature = config['data']['features'])\n",
    "stock_data.info()"
   ]
  },
  {
   "cell_type": "code",
   "execution_count": 5,
   "id": "eae97d8c-102c-480a-bdfe-28e3c0403bca",
   "metadata": {},
   "outputs": [
    {
     "data": {
      "text/plain": [
       "Date\n",
       "2013-01-02     22.574516\n",
       "2013-01-03     22.272108\n",
       "2013-01-04     21.855265\n",
       "2013-01-07     21.814405\n",
       "2013-01-08     21.699976\n",
       "                 ...    \n",
       "2023-12-22    374.579987\n",
       "2023-12-26    374.660004\n",
       "2023-12-27    374.070007\n",
       "2023-12-28    375.279999\n",
       "2023-12-29    376.040009\n",
       "Name: Adj Close, Length: 2768, dtype: float64"
      ]
     },
     "execution_count": 5,
     "metadata": {},
     "output_type": "execute_result"
    }
   ],
   "source": [
    "stock_data.MSFT"
   ]
  },
  {
   "cell_type": "code",
   "execution_count": null,
   "id": "01210c18-506e-4b9d-897c-4946db32d0be",
   "metadata": {},
   "outputs": [],
   "source": []
  }
 ],
 "metadata": {
  "kernelspec": {
   "display_name": "Python 3 (ipykernel)",
   "language": "python",
   "name": "python3"
  },
  "language_info": {
   "codemirror_mode": {
    "name": "ipython",
    "version": 3
   },
   "file_extension": ".py",
   "mimetype": "text/x-python",
   "name": "python",
   "nbconvert_exporter": "python",
   "pygments_lexer": "ipython3",
   "version": "3.10.12"
  }
 },
 "nbformat": 4,
 "nbformat_minor": 5
}
